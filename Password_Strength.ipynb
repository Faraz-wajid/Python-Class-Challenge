{
  "nbformat": 4,
  "nbformat_minor": 0,
  "metadata": {
    "colab": {
      "provenance": []
    },
    "kernelspec": {
      "name": "python3",
      "display_name": "Python 3"
    },
    "language_info": {
      "name": "python"
    }
  },
  "cells": [
    {
      "cell_type": "code",
      "execution_count": 1,
      "metadata": {
        "id": "fZ1Y7EPKjm5t"
      },
      "outputs": [],
      "source": [
        "import re"
      ]
    },
    {
      "cell_type": "code",
      "source": [
        "score=0\n",
        "\n",
        "while score!=5:\n",
        "\n",
        "  password=str(input('Please enter your password'))\n",
        "\n",
        "\n",
        "  if len(password)>=8:\n",
        "    score+=1\n",
        "  else:\n",
        "    print('The password should be more than 8 character')\n",
        "\n",
        "  if re.search(r'^(?=.*\\d)(?=.*[A-Z])(?=.*[!@#$%&]).*$',password):\n",
        "    score+=4\n",
        "  else:\n",
        "    print('Please use atleast one,capital letter, special char, and digit')\n",
        "\n",
        "  if score<5:\n",
        "    print('Weak Password, try again')\n",
        "  else:\n",
        "    print('Password Successful')\n"
      ],
      "metadata": {
        "colab": {
          "base_uri": "https://localhost:8080/"
        },
        "id": "sSPBFDwnjx76",
        "outputId": "14a69794-9b51-4e61-bd13-cf6aa6db8ea7"
      },
      "execution_count": 19,
      "outputs": [
        {
          "output_type": "stream",
          "name": "stdout",
          "text": [
            "Please enter your passwordQsda234$!\n",
            "Password Successful\n"
          ]
        }
      ]
    }
  ]
}