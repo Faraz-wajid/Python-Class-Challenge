{
  "nbformat": 4,
  "nbformat_minor": 0,
  "metadata": {
    "colab": {
      "provenance": []
    },
    "kernelspec": {
      "name": "python3",
      "display_name": "Python 3"
    },
    "language_info": {
      "name": "python"
    }
  },
  "cells": [
    {
      "cell_type": "code",
      "execution_count": 1,
      "metadata": {
        "id": "W_reE909ROoC"
      },
      "outputs": [],
      "source": [
        "import numpy as np"
      ]
    },
    {
      "cell_type": "code",
      "source": [
        "book_detail={'Title':[],'Author':[],'Year':[],\"Read_status\":[]}\n",
        "menu=['Add','Remove','Search','Display All','My Statistic','Exit']"
      ],
      "metadata": {
        "id": "VC6qSW9tReU_"
      },
      "execution_count": 16,
      "outputs": []
    },
    {
      "cell_type": "code",
      "source": [
        "def add_book():\n",
        "  for i in book_detail:\n",
        "    book_detail[i].append(str(input(f'Please input {i}: ')))\n",
        "\n",
        "def remove_book():\n",
        "\n",
        " while True:\n",
        "\n",
        "  rem_title=str(input('Please enter exact title to remove: '))\n",
        "\n",
        "\n",
        "  if rem_title  not in book_detail['Title']:\n",
        "      print('Book not found, please enter correct title ')\n",
        "  else:\n",
        "      index_no=book_detail['Title'].index(rem_title)\n",
        "      for j in book_detail:\n",
        "\n",
        "        book_detail[j].pop(index_no)\n",
        "      print(f'Book {rem_title} removed succesfully')\n",
        "      break\n",
        "\n",
        "\n",
        "def search_book():\n",
        "  pass\n",
        "\n",
        "def display_all():\n",
        "  header=list(book_detail.keys())\n",
        "  rows=zip(*book_detail.values())\n",
        "  print('\\t'.join(header))\n",
        "  for i in rows:\n",
        "    print('\\t'.join(str(item) for item in i))\n",
        "\n",
        "def my_stats():\n",
        "  no_book=len(book_detail['Title'])\n",
        "  read_percent=((book_detail['Read_status'].count('yes'))/(no_book))*100\n",
        "  print(f'There are {no_book} books in your library and you have read {read_percent} % of these')\n",
        "\n",
        "def exit_sys():\n",
        "  print('Good Bye! see u soon')\n",
        "\n",
        "\n",
        "fun_menu_dict={'Add':add_book,'Remove':remove_book,'Search':search_book,'Display All':display_all,'My Statistic':my_stats,'Exit':exit_sys}"
      ],
      "metadata": {
        "id": "zzAIA_J_pnpO"
      },
      "execution_count": 51,
      "outputs": []
    },
    {
      "cell_type": "code",
      "source": [
        "\n",
        "\n",
        "welcome=' Welcome to the Libary Management System. '\n",
        "print(welcome)\n",
        "print('-------------------------------------------')\n",
        "print('............MENU............\\n')\n",
        "for i,j in enumerate(menu):\n",
        "  print(f'{i}:{j}')\n",
        "\n",
        "while True:\n",
        "\n",
        "  menu_index=int(input(f'Please select option 0 to 5  : \\n'))\n",
        "  if 0<=menu_index<=5:\n",
        "    option_selected=menu[menu_index]\n",
        "    print(f'.....{option_selected}  Selected.....')\n",
        "    fun_menu_dict[option_selected]()\n",
        "    break\n",
        "  else:\n",
        "    print('Please select correct range\\n')\n",
        "\n"
      ],
      "metadata": {
        "colab": {
          "base_uri": "https://localhost:8080/"
        },
        "id": "zj6D9cEVSSRY",
        "outputId": "69d602a0-1098-4be6-84e9-2470b50d693f"
      },
      "execution_count": 53,
      "outputs": [
        {
          "output_type": "stream",
          "name": "stdout",
          "text": [
            " Welcome to the Libary Management System. \n",
            "-------------------------------------------\n",
            "............MENU............\n",
            "\n",
            "0:Add\n",
            "1:Remove\n",
            "2:Search\n",
            "3:Display All\n",
            "4:My Statistic\n",
            "5:Exit\n",
            "Please select option 0 to 5  : \n",
            "4\n",
            ".....My Statistic  Selected.....\n",
            "There are 4 books in your library and you have read 50.0 % of these\n"
          ]
        }
      ]
    }
  ]
}