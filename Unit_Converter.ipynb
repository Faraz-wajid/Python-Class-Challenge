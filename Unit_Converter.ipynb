{
  "nbformat": 4,
  "nbformat_minor": 0,
  "metadata": {
    "colab": {
      "provenance": []
    },
    "kernelspec": {
      "name": "python3",
      "display_name": "Python 3"
    },
    "language_info": {
      "name": "python"
    }
  },
  "cells": [
    {
      "cell_type": "code",
      "execution_count": 1,
      "metadata": {
        "id": "HC4OcwnPSXyF"
      },
      "outputs": [],
      "source": [
        "import numpy as np"
      ]
    },
    {
      "cell_type": "code",
      "source": [
        "converter={'Area':['Sq_Km','Sq_m','Sq_yd'],'Energy':['Joule','K_Joule','KwHr'],'Length':['Km','m','cm','mm'],'Mass':['Ton','Kg','gm'],'Pressure':['Bar','Pascal','PSI'],'Temperature':['C','F','Kelvin'],'Speed':['Km/hr','m/s','Knot']}\n",
        "key_list=list(converter.keys())\n",
        "value_lists=list(converter.values())"
      ],
      "metadata": {
        "id": "VOKt0sGx4s-6"
      },
      "execution_count": 12,
      "outputs": []
    },
    {
      "cell_type": "code",
      "source": [
        "for j in converter:\n",
        "  print(j)"
      ],
      "metadata": {
        "colab": {
          "base_uri": "https://localhost:8080/"
        },
        "id": "yu_EYBK49Kvz",
        "outputId": "ba819451-2ad0-41bf-a616-63ce79fe01d1"
      },
      "execution_count": 34,
      "outputs": [
        {
          "output_type": "stream",
          "name": "stdout",
          "text": [
            "Area\n",
            "Energy\n",
            "Length\n",
            "Mass\n",
            "Pressure\n",
            "Temperature\n",
            "Speed\n"
          ]
        }
      ]
    },
    {
      "cell_type": "code",
      "source": [
        "def convert_area(value, from_unit, to_unit):\n",
        "    to_sq_m = {\n",
        "        'Sq_Km': 1_000_000,\n",
        "        'Sq_m': 1,\n",
        "        'Sq_yd': 0.836127\n",
        "    }\n",
        "    return value * to_sq_m[from_unit] / to_sq_m[to_unit]\n",
        "\n",
        "def convert_energy(value, from_unit, to_unit):\n",
        "    to_joule = {\n",
        "        'Joule': 1,\n",
        "        'K_Joule': 1_000,\n",
        "        'KwHr': 3_600_000\n",
        "    }\n",
        "    return value * to_joule[from_unit] / to_joule[to_unit]\n",
        "\n",
        "def convert_length(value, from_unit, to_unit):\n",
        "    to_m = {\n",
        "        'Km': 1000,\n",
        "        'm': 1,\n",
        "        'cm': 0.01,\n",
        "        'mm': 0.001\n",
        "    }\n",
        "    return value * to_m[from_unit] / to_m[to_unit]\n",
        "\n",
        "def convert_mass(value, from_unit, to_unit):\n",
        "    to_kg = {\n",
        "        'Ton': 1000,\n",
        "        'Kg': 1,\n",
        "        'gm': 0.001\n",
        "    }\n",
        "    return value * to_kg[from_unit] / to_kg[to_unit]\n",
        "\n",
        "def convert_pressure(value, from_unit, to_unit):\n",
        "    to_pascal = {\n",
        "        'Bar': 100000,\n",
        "        'Pascal': 1,\n",
        "        'PSI': 6894.76\n",
        "    }\n",
        "    return value * to_pascal[from_unit] / to_pascal[to_unit]\n",
        "\n",
        "def convert_temperature(value, from_unit, to_unit):\n",
        "    # First, convert to Celsius\n",
        "    if from_unit == to_unit:\n",
        "        return value\n",
        "\n",
        "    if from_unit == 'F':\n",
        "        value = (value - 32) * 5/9\n",
        "    elif from_unit == 'Kelvin':\n",
        "        value = value - 273.15\n",
        "\n",
        "    # Now convert from Celsius to target\n",
        "    if to_unit == 'F':\n",
        "        return (value * 9/5) + 32\n",
        "    elif to_unit == 'Kelvin':\n",
        "        return value + 273.15\n",
        "    else:  # to_unit == 'C'\n",
        "        return value\n",
        "\n",
        "def convert_speed(value, from_unit, to_unit):\n",
        "    to_mps = {\n",
        "        'Km/hr': 0.277778,\n",
        "        'm/s': 1,\n",
        "        'Knot': 0.514444\n",
        "    }\n",
        "    return value * to_mps[from_unit] / to_mps[to_unit]\n",
        "\n",
        "\n",
        "conversion_functions = {\n",
        "    \"Area\": convert_area,\n",
        "    \"Energy\": convert_energy,\n",
        "    \"Length\": convert_length,\n",
        "    \"Mass\": convert_mass,\n",
        "    \"Pressure\": convert_pressure,\n",
        "    \"Temperature\": convert_temperature,\n",
        "    \"Speed\": convert_speed\n",
        "}\n"
      ],
      "metadata": {
        "id": "e_yDZ__T7lxE"
      },
      "execution_count": 50,
      "outputs": []
    },
    {
      "cell_type": "code",
      "source": [
        "# def convert():\n",
        "\n",
        "for i, convert in enumerate(converter):\n",
        "      print(f'{i}. {convert}')\n",
        "\n",
        "choice_dim= key_list[int(input('please select dimension 0-6 : '))]\n",
        "\n",
        "for i, unit in enumerate(converter[choice_dim]):\n",
        "      print(f'{i}. {unit}')\n",
        "\n",
        "from_unit=int(input(f'Convert FROM-- select: (0 - { len(converter[choice_dim])-1} ): '))\n",
        "from_value= int(input(f'Please Enter {converter[choice_dim][from_unit]} Value: '))\n",
        "to_unit=int(input(f'Convert TO-- select: (0 - { len(converter[choice_dim])-1} ): '))\n",
        "\n",
        "for j in converter:\n",
        "\n",
        "  match choice_dim:\n",
        "    case j:\n",
        "      a=conversion_functions[j]\n",
        "      result=a(from_value,converter[j][from_unit],converter[j][to_unit])\n",
        "      print(f'{from_value} {converter[j][from_unit]} is equal to {result} {converter[j][to_unit]}')\n",
        "      break\n",
        "\n",
        "\n",
        "\n"
      ],
      "metadata": {
        "colab": {
          "base_uri": "https://localhost:8080/"
        },
        "id": "VKuVPszljuYQ",
        "outputId": "8537e6f1-e142-45db-9818-24d25e61c943"
      },
      "execution_count": 53,
      "outputs": [
        {
          "output_type": "stream",
          "name": "stdout",
          "text": [
            "0. Area\n",
            "1. Energy\n",
            "2. Length\n",
            "3. Mass\n",
            "4. Pressure\n",
            "5. Temperature\n",
            "6. Speed\n",
            "please select dimension 0-6 : 5\n",
            "0. C\n",
            "1. F\n",
            "2. Kelvin\n",
            "Convert FROM-- select: (0 - 2 ): 1\n",
            "Please Enter F Value: 100\n",
            "Convert TO-- select: (0 - 2 ): 0\n",
            "100 F is equal to 37.77777777777778 C\n"
          ]
        }
      ]
    },
    {
      "cell_type": "markdown",
      "source": [],
      "metadata": {
        "id": "XDQ_vNmVhxou"
      }
    }
  ]
}